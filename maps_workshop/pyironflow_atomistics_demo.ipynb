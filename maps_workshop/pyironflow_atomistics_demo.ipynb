{
 "cells": [
  {
   "cell_type": "code",
   "execution_count": 1,
   "id": "6d417fe2-0ceb-4630-9865-f55662297298",
   "metadata": {},
   "outputs": [],
   "source": [
    "from pyironflow.pyironflow import PyironFlow, GUILayout\n",
    "from pyiron_workflow import Workflow\n",
    "import pyiron_nodes as pn"
   ]
  },
  {
   "cell_type": "code",
   "execution_count": 2,
   "id": "1bbf66e7-2d62-479d-87f4-2975b449764b",
   "metadata": {},
   "outputs": [
    {
     "data": {
      "application/vnd.jupyter.widget-view+json": {
       "model_id": "8ee44f8a00af4710819111e2fb17c3ad",
       "version_major": 2,
       "version_minor": 0
      },
      "text/plain": [
       "HBox(children=(Accordion(children=(Tree(nodes=(Node(icon='archive', icon_style='success', name='general_nodes'…"
      ]
     },
     "execution_count": 2,
     "metadata": {},
     "output_type": "execute_result"
    }
   ],
   "source": [
    "gui_layout = GUILayout()\n",
    "gui_layout.output_widget_width = 500\n",
    "pf = PyironFlow([Workflow(\"md_example\")], root_path='pyiron_nodes', gui_layout=gui_layout)\n",
    "pf.gui"
   ]
  },
  {
   "cell_type": "code",
   "execution_count": null,
   "id": "11bd2be7-7871-4736-b39d-fb259dc392a3",
   "metadata": {},
   "outputs": [],
   "source": []
  },
  {
   "cell_type": "code",
   "execution_count": null,
   "id": "54863dca-3fdf-4a86-b79a-9ec4142586e4",
   "metadata": {},
   "outputs": [],
   "source": []
  }
 ],
 "metadata": {
  "kernelspec": {
   "display_name": "Python 3 (ipykernel)",
   "language": "python",
   "name": "python3"
  },
  "language_info": {
   "codemirror_mode": {
    "name": "ipython",
    "version": 3
   },
   "file_extension": ".py",
   "mimetype": "text/x-python",
   "name": "python",
   "nbconvert_exporter": "python",
   "pygments_lexer": "ipython3",
   "version": "3.12.8"
  }
 },
 "nbformat": 4,
 "nbformat_minor": 5
}
