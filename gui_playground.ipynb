{
 "cells": [
  {
   "cell_type": "code",
   "execution_count": 3,
   "id": "770ed9eb-c7b4-49ac-aada-f216ade8583b",
   "metadata": {},
   "outputs": [],
   "source": [
    "from pyiron_workflow import Workflow\n",
    "from python.pyironflow import PyironFlow\n",
    "import pyiron_nodes as pn"
   ]
  },
  {
   "cell_type": "code",
   "execution_count": 4,
   "id": "91062d9b-699c-4048-aa1c-329f408f50fb",
   "metadata": {},
   "outputs": [
    {
     "data": {
      "application/vnd.jupyter.widget-view+json": {
       "model_id": "8be0c0ce18854f53838956df3c361235",
       "version_major": 2,
       "version_minor": 0
      },
      "text/plain": [
       "HBox(children=(Accordion(children=(Tree(nodes=(Node(icon_style='warning', name='atomistic'), Node(icon_style='…"
      ]
     },
     "execution_count": 4,
     "metadata": {},
     "output_type": "execute_result"
    }
   ],
   "source": [
    "pf = PyironFlow()\n",
    "pf.gui"
   ]
  },
  {
   "cell_type": "code",
   "execution_count": null,
   "id": "3deb92c9-14ad-48d3-84ca-3740aa7d6b39",
   "metadata": {},
   "outputs": [],
   "source": [
    "wf_from_gui = pf.get_workflow()"
   ]
  },
  {
   "cell_type": "code",
   "execution_count": null,
   "id": "bab5d1d5-b59a-4a67-ab76-ee4bf62ebc56",
   "metadata": {},
   "outputs": [],
   "source": [
    "el = wf_from_gui.RotateElasticityTensor.pull()"
   ]
  },
  {
   "cell_type": "code",
   "execution_count": null,
   "id": "18331e68-28b8-4225-9b08-b148397068d7",
   "metadata": {},
   "outputs": [],
   "source": [
    "import numpy as np\n",
    "\n",
    "def round_to_zero(array, threshold=1e-10):\n",
    "    return np.where(np.abs(array) < threshold, 0, array)\n",
    "\n",
    "np.set_printoptions(linewidth=np.inf)\n",
    "np.set_printoptions(precision=2)\n",
    "round_to_zero(el)"
   ]
  },
  {
   "cell_type": "code",
   "execution_count": 1,
   "id": "9b309ba4-245f-4420-8bad-c061ccdafcf7",
   "metadata": {},
   "outputs": [
    {
     "ename": "NameError",
     "evalue": "name 'wf_from_gui' is not defined",
     "output_type": "error",
     "traceback": [
      "\u001b[0;31m---------------------------------------------------------------------------\u001b[0m",
      "\u001b[0;31mNameError\u001b[0m                                 Traceback (most recent call last)",
      "Cell \u001b[0;32mIn[1], line 1\u001b[0m\n\u001b[0;32m----> 1\u001b[0m \u001b[43mwf_from_gui\u001b[49m\u001b[38;5;241m.\u001b[39mPlotInitMeshObject\u001b[38;5;241m.\u001b[39mpull()\u001b[38;5;241m.\u001b[39mshow()\n",
      "\u001b[0;31mNameError\u001b[0m: name 'wf_from_gui' is not defined"
     ]
    }
   ],
   "source": [
    "wf_from_gui.PlotInitMeshObject.pull().show()"
   ]
  },
  {
   "cell_type": "code",
   "execution_count": 68,
   "id": "763407a8-7763-4fa8-8023-b8420d265618",
   "metadata": {},
   "outputs": [],
   "source": [
    "wf_from_gui = pf.get_workflow()"
   ]
  },
  {
   "cell_type": "code",
   "execution_count": 72,
   "id": "46f6e546-d17a-4c78-a086-593ac7ac9bb3",
   "metadata": {},
   "outputs": [
    {
     "name": "stdout",
     "output_type": "stream",
     "text": [
      "A view with name (P_0x70f72de93850_37) is already registered\n",
      " => returning previous one\n"
     ]
    },
    {
     "data": {
      "application/vnd.jupyter.widget-view+json": {
       "model_id": "066f220ee5c84f26a1bf0c99fe7de819",
       "version_major": 2,
       "version_minor": 0
      },
      "text/plain": [
       "Widget(value='<iframe src=\"http://localhost:41247/index.html?ui=P_0x70f72de93850_37&reconnect=auto\" class=\"pyv…"
      ]
     },
     "metadata": {},
     "output_type": "display_data"
    }
   ],
   "source": [
    "wf_from_gui.PlotVonMises3DObject.pull().show()"
   ]
  },
  {
   "cell_type": "code",
   "execution_count": null,
   "id": "5de2d143-d72a-40ab-94cf-405c0b8220ab",
   "metadata": {},
   "outputs": [],
   "source": []
  }
 ],
 "metadata": {
  "kernelspec": {
   "display_name": "Python 3 (ipykernel)",
   "language": "python",
   "name": "python3"
  },
  "language_info": {
   "codemirror_mode": {
    "name": "ipython",
    "version": 3
   },
   "file_extension": ".py",
   "mimetype": "text/x-python",
   "name": "python",
   "nbconvert_exporter": "python",
   "pygments_lexer": "ipython3",
   "version": "3.11.8"
  }
 },
 "nbformat": 4,
 "nbformat_minor": 5
}
