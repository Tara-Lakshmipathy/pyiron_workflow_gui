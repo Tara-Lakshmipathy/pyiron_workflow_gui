{
 "cells": [
  {
   "cell_type": "code",
   "execution_count": 1,
   "id": "d7fbc132-99f7-4250-8692-4e9313b2fc42",
   "metadata": {},
   "outputs": [],
   "source": [
    "from pyiron_workflow import Workflow\n",
    "from typing import Optional"
   ]
  },
  {
   "cell_type": "code",
   "execution_count": 2,
   "id": "e7259d8a-3dfd-4202-b31f-2ab3ffddd2a4",
   "metadata": {},
   "outputs": [
    {
     "name": "stderr",
     "output_type": "stream",
     "text": [
      "2024-09-21 19:15:35,308 - pyiron_log - WARNING - pyiron found a 'templates' folder in the /home/tlakshmi/pyiron/resources resource directory. These are no longer supported in pyiron_base >=0.7.0. They are replaced by Project.create_job_class() and Project.wrap_python_function().\n",
      "2024-09-21 19:15:35,308 - pyiron_log - WARNING - pyiron found a 'templates' folder in the /home/tlakshmi/pyiron/resources resource directory. These are no longer supported in pyiron_base >=0.7.0. They are replaced by Project.create_job_class() and Project.wrap_python_function().\n"
     ]
    }
   ],
   "source": [
    "from python.pyironflow import PyironFlow\n",
    "import pyiron_nodes.atomistic as pna\n",
    "import pyiron_nodes.fenicsx as pnf"
   ]
  },
  {
   "cell_type": "code",
   "execution_count": 3,
   "id": "58865a9e-fbf8-478d-9182-0906b0b0b04d",
   "metadata": {
    "scrolled": true
   },
   "outputs": [
    {
     "name": "stdout",
     "output_type": "stream",
     "text": [
      "Info    : Clearing all models and views...\n",
      "Info    : Done clearing all models and views\n",
      "Info    : Meshing 1D...\n",
      "Info    : [  0%] Meshing curve 1 (Line)\n",
      "Info    : [ 10%] Meshing curve 2 (Line)\n",
      "Info    : [ 20%] Meshing curve 3 (Line)\n",
      "Info    : [ 30%] Meshing curve 4 (Line)\n",
      "Info    : [ 40%] Meshing curve 5 (Line)\n",
      "Info    : [ 50%] Meshing curve 6 (Line)\n",
      "Info    : [ 50%] Meshing curve 7 (Line)\n",
      "Info    : [ 60%] Meshing curve 8 (Line)\n",
      "Info    : [ 70%] Meshing curve 9 (Line)\n",
      "Info    : [ 80%] Meshing curve 10 (Line)\n",
      "Info    : [ 90%] Meshing curve 11 (Line)\n",
      "Info    : [100%] Meshing curve 12 (Line)\n",
      "Info    : Done meshing 1D (Wall 0.000677351s, CPU 0.000769s)\n",
      "Info    : Meshing 2D...\n",
      "Info    : [  0%] Meshing surface 1 (Plane, Frontal-Delaunay)\n",
      "Info    : [ 20%] Meshing surface 2 (Plane, Frontal-Delaunay)\n",
      "Info    : [ 40%] Meshing surface 3 (Plane, Frontal-Delaunay)\n",
      "Info    : [ 50%] Meshing surface 4 (Plane, Frontal-Delaunay)\n",
      "Info    : [ 70%] Meshing surface 5 (Plane, Frontal-Delaunay)\n",
      "Info    : [ 90%] Meshing surface 6 (Plane, Frontal-Delaunay)\n",
      "Info    : Done meshing 2D (Wall 0.0667623s, CPU 0.06642s)\n",
      "Info    : Meshing 3D...\n",
      "Info    : 3D Meshing 1 volume with 1 connected component\n",
      "Info    : Tetrahedrizing 3389 nodes...\n",
      "Info    : Done tetrahedrizing 3397 nodes (Wall 0.0322979s, CPU 0.032321s)\n",
      "Info    : Reconstructing mesh...\n",
      "Info    :  - Creating surface mesh\n",
      "Info    :  - Identifying boundary edges\n",
      "Info    :  - Recovering boundary\n",
      "Info    : Done reconstructing mesh (Wall 0.0716621s, CPU 0.067846s)\n",
      "Info    : Found volume 1\n",
      "Info    : It. 0 - 0 nodes created - worst tet radius 3.42449 (nodes removed 0 0)\n",
      "Info    : It. 500 - 500 nodes created - worst tet radius 1.44882 (nodes removed 0 0)\n",
      "Info    : It. 1000 - 1000 nodes created - worst tet radius 1.21073 (nodes removed 0 0)\n",
      "Info    : It. 1500 - 1500 nodes created - worst tet radius 1.09941 (nodes removed 0 0)\n",
      "Info    : 3D refinement terminated (5350 nodes total):\n",
      "Info    :  - 0 Delaunay cavities modified for star shapeness\n",
      "Info    :  - 0 nodes could not be inserted\n",
      "Info    :  - 22337 tetrahedra created in 0.0725094 sec. (308056 tets/s)\n",
      "Info    : 0 node relocations\n",
      "Info    : Done meshing 3D (Wall 0.229661s, CPU 0.226991s)\n",
      "Info    : Optimizing mesh...\n",
      "Info    : Optimizing volume 1\n",
      "Info    : Optimization starts (volume = 0.12) with worst = 0.00971018 / average = 0.770967:\n",
      "Info    : 0.00 < quality < 0.10 :        65 elements\n",
      "Info    : 0.10 < quality < 0.20 :       183 elements\n",
      "Info    : 0.20 < quality < 0.30 :       247 elements\n",
      "Info    : 0.30 < quality < 0.40 :       386 elements\n",
      "Info    : 0.40 < quality < 0.50 :       492 elements\n",
      "Info    : 0.50 < quality < 0.60 :       966 elements\n",
      "Info    : 0.60 < quality < 0.70 :      2957 elements\n",
      "Info    : 0.70 < quality < 0.80 :      5581 elements\n",
      "Info    : 0.80 < quality < 0.90 :      7673 elements\n",
      "Info    : 0.90 < quality < 1.00 :      3787 elements\n",
      "Info    : 492 edge swaps, 12 node relocations (volume = 0.12): worst = 0.260642 / average = 0.785132 (Wall 0.00571349s, CPU 0.005784s)\n",
      "Info    : 497 edge swaps, 12 node relocations (volume = 0.12): worst = 0.290225 / average = 0.78528 (Wall 0.00683093s, CPU 0.006938s)\n",
      "Info    : No ill-shaped tets in the mesh :-)\n",
      "Info    : 0.00 < quality < 0.10 :         0 elements\n",
      "Info    : 0.10 < quality < 0.20 :         0 elements\n",
      "Info    : 0.20 < quality < 0.30 :         1 elements\n",
      "Info    : 0.30 < quality < 0.40 :       388 elements\n",
      "Info    : 0.40 < quality < 0.50 :       460 elements\n",
      "Info    : 0.50 < quality < 0.60 :       927 elements\n",
      "Info    : 0.60 < quality < 0.70 :      2947 elements\n",
      "Info    : 0.70 < quality < 0.80 :      5602 elements\n",
      "Info    : 0.80 < quality < 0.90 :      7761 elements\n",
      "Info    : 0.90 < quality < 1.00 :      3796 elements\n",
      "Info    : Done optimizing mesh (Wall 0.0218803s, CPU 0.022117s)\n",
      "Info    : 5350 nodes 29120 elements\n"
     ]
    },
    {
     "data": {
      "text/plain": [
       "{'rotated_elastic_tensor__rotated_elast_tensor': array([[175.16564427, 150.92657361, 150.92657361,   0.        ,\n",
       "           0.        ,   0.        ],\n",
       "        [150.92657361, 175.16564427, 150.92657361,   0.        ,\n",
       "           0.        ,   0.        ],\n",
       "        [150.92657361, 150.92657361, 175.16564427,   0.        ,\n",
       "           0.        ,   0.        ],\n",
       "        [  0.        ,   0.        ,   0.        ,  37.17807774,\n",
       "           0.        ,   0.        ],\n",
       "        [  0.        ,   0.        ,   0.        ,   0.        ,\n",
       "          37.17807774,   0.        ],\n",
       "        [  0.        ,   0.        ,   0.        ,   0.        ,\n",
       "           0.        ,  37.17807774]]),\n",
       " 'init_mesh_plotter_obj__plotter': <pyvista.plotting.plotter.Plotter at 0x7964cc7bde10>,\n",
       " 'bc_array__bc_array': [<dolfinx.fem.bcs.DirichletBC at 0x7964c66bf5d0>,\n",
       "  <dolfinx.fem.bcs.DirichletBC at 0x7964cc7bec10>]}"
      ]
     },
     "execution_count": 3,
     "metadata": {},
     "output_type": "execute_result"
    }
   ],
   "source": [
    "wf = Workflow(\"multiscale_linear_elasticity\")\n",
    "\n",
    "wf.ase_emt_engine = pna.engine.ase.EMT()\n",
    "wf.structure = pna.structure.build.Bulk(name='Au', cubic=True)\n",
    "wf.elastic_calc_params = pna.property.elastic.InputElasticTensor(num_of_point=7, eps_range=0.005, sqrt_eta=True, fit_order=3)\n",
    "wf.elastic_constants = pna.property.elastic.ElasticConstants(wf.structure, wf.ase_emt_engine, wf.elastic_calc_params)\n",
    "wf.rotated_elastic_tensor = pna.property.elastic.rotate_elasticity_tensor(wf.elastic_constants, crystal='fcc')\n",
    "\n",
    "wf.bar_geom_params = pnf.geometries.three_d_geometries.bar_parameters(length=3.0, width=0.2, depth=0.2, density=1.0)\n",
    "wf.bar_domain = pnf.geometries.three_d_geometries.create_bar(x0=0, y0=0, z0=0, min_mesh=0.03, max_mesh=0.03, parameters=wf.bar_geom_params)\n",
    "wf.vector_function_space = pnf.function_spaces.general_function_spaces.create_vector_function_space(wf.bar_domain, \"Lagrange\", 1)\n",
    "wf.init_mesh_plotter_obj= pnf.mesh_visualization.pyvista_viz.plot_init_mesh_object(wf.vector_function_space)\n",
    "wf.bc_left = pnf.boundary_conditions.scalar_geometric.three_d_scalar_dirichlet(function_space=wf.vector_function_space, bc_function=\"np.isclose(x[0], 0)\", value_x=0, value_y=0, value_z=0)\n",
    "wf.bc_right = pnf.boundary_conditions.scalar_geometric.three_d_scalar_dirichlet(function_space=wf.vector_function_space, bc_function=\"np.isclose(x[0], 1)\", value_x=0, value_y=0, value_z=0)\n",
    "wf.bc_array = pnf.boundary_conditions.scalar_geometric.collect_bcs(bc1=wf.bc_left, bc2=wf.bc_right)\n",
    "\n",
    "wf()"
   ]
  },
  {
   "cell_type": "code",
   "execution_count": 4,
   "id": "82b11a80-461b-4cc9-b22e-fe4af76ef893",
   "metadata": {},
   "outputs": [],
   "source": [
    "#pic = wf.draw(size=(15,15))"
   ]
  },
  {
   "cell_type": "code",
   "execution_count": 5,
   "id": "d4d86015-9623-40b0-85e6-f812b9c9f770",
   "metadata": {},
   "outputs": [],
   "source": [
    "#pic = wf.draw(size=(15,15))\n",
    "#pic.render(outfile='workflow.svg')"
   ]
  },
  {
   "cell_type": "code",
   "execution_count": 6,
   "id": "f3b724c0-7ace-4975-8294-22ef18f83fa9",
   "metadata": {},
   "outputs": [
    {
     "data": {
      "application/vnd.jupyter.widget-view+json": {
       "model_id": "4a39dfb5984749ea81e1fb8341844f92",
       "version_major": 2,
       "version_minor": 0
      },
      "text/plain": [
       "HBox(children=(Accordion(children=(Tree(nodes=(Node(icon_style='warning', name='atomistic'), Node(icon_style='…"
      ]
     },
     "execution_count": 6,
     "metadata": {},
     "output_type": "execute_result"
    }
   ],
   "source": [
    "pf = PyironFlow([wf])\n",
    "#pf = PyironFlow()\n",
    "pf.gui"
   ]
  },
  {
   "cell_type": "code",
   "execution_count": 7,
   "id": "0ce66048-52a4-4dd2-97fe-64e86f6499a8",
   "metadata": {},
   "outputs": [],
   "source": [
    "wf_from_gui = pf.get_workflow()"
   ]
  },
  {
   "cell_type": "code",
   "execution_count": 9,
   "id": "f09736b6-2cb5-47b6-8423-6937939ac2e7",
   "metadata": {},
   "outputs": [
    {
     "name": "stdout",
     "output_type": "stream",
     "text": [
      "A view with name (P_0x7964db3c8510_1) is already registered\n",
      " => returning previous one\n"
     ]
    },
    {
     "data": {
      "application/vnd.jupyter.widget-view+json": {
       "model_id": "17ef2fc9d6b048d5afb5badf5ec40ead",
       "version_major": 2,
       "version_minor": 0
      },
      "text/plain": [
       "Widget(value='<iframe src=\"http://localhost:40395/index.html?ui=P_0x7964db3c8510_1&reconnect=auto\" class=\"pyvi…"
      ]
     },
     "metadata": {},
     "output_type": "display_data"
    }
   ],
   "source": [
    "wf_from_gui.init_mesh_plotter_obj.pull().show()"
   ]
  },
  {
   "cell_type": "code",
   "execution_count": 10,
   "id": "c7fae7b5-7589-48bd-a53f-1df1c4beeabc",
   "metadata": {},
   "outputs": [
    {
     "data": {
      "application/vnd.jupyter.widget-view+json": {
       "model_id": "ed418b5614644c669fe464f701a3ea1e",
       "version_major": 2,
       "version_minor": 0
      },
      "text/plain": [
       "Output(layout=Layout(border_bottom='1px solid black', border_left='1px solid black', border_right='1px solid b…"
      ]
     },
     "execution_count": 10,
     "metadata": {},
     "output_type": "execute_result"
    }
   ],
   "source": [
    "pf.display_workflow(0)"
   ]
  },
  {
   "cell_type": "code",
   "execution_count": 11,
   "id": "471237d0-0dca-46bd-bc64-12d50bd899cd",
   "metadata": {},
   "outputs": [
    {
     "data": {
      "application/vnd.jupyter.widget-view+json": {
       "model_id": "531697a00b7249c994970608554f0cb2",
       "version_major": 2,
       "version_minor": 0
      },
      "text/plain": [
       "Output(layout=Layout(border_bottom='1px solid black', border_left='1px solid black', border_right='1px solid b…"
      ]
     },
     "execution_count": 11,
     "metadata": {},
     "output_type": "execute_result"
    }
   ],
   "source": [
    "pf.out_widget"
   ]
  },
  {
   "cell_type": "code",
   "execution_count": null,
   "id": "dd553e25-ad78-48da-b9ef-ce6676af7f66",
   "metadata": {},
   "outputs": [],
   "source": []
  }
 ],
 "metadata": {
  "kernelspec": {
   "display_name": "Python 3 (ipykernel)",
   "language": "python",
   "name": "python3"
  },
  "language_info": {
   "codemirror_mode": {
    "name": "ipython",
    "version": 3
   },
   "file_extension": ".py",
   "mimetype": "text/x-python",
   "name": "python",
   "nbconvert_exporter": "python",
   "pygments_lexer": "ipython3",
   "version": "3.11.8"
  }
 },
 "nbformat": 4,
 "nbformat_minor": 5
}
