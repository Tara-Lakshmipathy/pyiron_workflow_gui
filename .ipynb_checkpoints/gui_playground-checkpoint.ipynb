{
 "cells": [
  {
   "cell_type": "code",
   "execution_count": 1,
   "id": "770ed9eb-c7b4-49ac-aada-f216ade8583b",
   "metadata": {},
   "outputs": [
    {
     "data": {
      "application/vnd.jupyter.widget-view+json": {
       "model_id": "da476ba6b5f54ead9fc1423dcc244b6e",
       "version_major": 2,
       "version_minor": 0
      },
      "text/plain": []
     },
     "metadata": {},
     "output_type": "display_data"
    }
   ],
   "source": [
    "from pyiron_workflow import Workflow\n",
    "from python.pyironflow import PyironFlow\n",
    "import pyiron_nodes as pn"
   ]
  },
  {
   "cell_type": "code",
   "execution_count": 2,
   "id": "91062d9b-699c-4048-aa1c-329f408f50fb",
   "metadata": {},
   "outputs": [
    {
     "data": {
      "application/vnd.jupyter.widget-view+json": {
       "model_id": "8bfb4e091c374ea582f5d2c989d15322",
       "version_major": 2,
       "version_minor": 0
      },
      "text/plain": [
       "HBox(children=(Accordion(children=(Tree(nodes=(Node(icon_style='warning', name='atomistic'), Node(icon_style='…"
      ]
     },
     "execution_count": 2,
     "metadata": {},
     "output_type": "execute_result"
    }
   ],
   "source": [
    "pf = PyironFlow()\n",
    "pf.gui"
   ]
  },
  {
   "cell_type": "code",
   "execution_count": 60,
   "id": "3deb92c9-14ad-48d3-84ca-3740aa7d6b39",
   "metadata": {},
   "outputs": [],
   "source": [
    "wf_from_gui = pf.get_workflow()"
   ]
  },
  {
   "cell_type": "code",
   "execution_count": 61,
   "id": "bab5d1d5-b59a-4a67-ab76-ee4bf62ebc56",
   "metadata": {},
   "outputs": [
    {
     "name": "stderr",
     "output_type": "stream",
     "text": [
      "/home/tlakshmi/anaconda3/envs/gui_workflow_fenicsx/lib/python3.11/site-packages/spglib/spglib.py:115: DeprecationWarning: dict interface (SpglibDataset['number']) is deprecated.Use attribute interface ({self.__class__.__name__}.{key}) instead\n",
      "  warnings.warn(\n"
     ]
    }
   ],
   "source": [
    "el = wf_from_gui.RotateElasticityTensor.pull()"
   ]
  },
  {
   "cell_type": "code",
   "execution_count": 62,
   "id": "18331e68-28b8-4225-9b08-b148397068d7",
   "metadata": {},
   "outputs": [
    {
     "data": {
      "text/plain": [
       "array([[143.55,  81.41,  50.72,   0.  ,   0.  ,   0.  ],\n",
       "       [ 81.41, 112.86,  81.41,   0.  ,   0.  ,   0.  ],\n",
       "       [ 50.72,  81.41, 143.55,   0.  ,   0.  ,   0.  ],\n",
       "       [  0.  ,   0.  ,   0.  ,  46.42,   0.  ,   0.  ],\n",
       "       [  0.  ,   0.  ,   0.  ,   0.  ,  15.72,   0.  ],\n",
       "       [  0.  ,   0.  ,   0.  ,   0.  ,   0.  ,  46.42]])"
      ]
     },
     "execution_count": 62,
     "metadata": {},
     "output_type": "execute_result"
    }
   ],
   "source": [
    "import numpy as np\n",
    "\n",
    "def round_to_zero(array, threshold=1e-10):\n",
    "    return np.where(np.abs(array) < threshold, 0, array)\n",
    "\n",
    "np.set_printoptions(linewidth=np.inf)\n",
    "np.set_printoptions(precision=2)\n",
    "round_to_zero(el)"
   ]
  },
  {
   "cell_type": "code",
   "execution_count": 63,
   "id": "9b309ba4-245f-4420-8bad-c061ccdafcf7",
   "metadata": {},
   "outputs": [
    {
     "name": "stderr",
     "output_type": "stream",
     "text": [
      "Warning : Gmsh has aleady been initialized\n"
     ]
    },
    {
     "name": "stdout",
     "output_type": "stream",
     "text": [
      "Info    : Clearing all models and views...\n",
      "Info    : Done clearing all models and views\n",
      "Info    : Meshing 1D...\n",
      "Info    : [  0%] Meshing curve 1 (Line)\n",
      "Info    : [ 10%] Meshing curve 2 (Line)\n",
      "Info    : [ 20%] Meshing curve 3 (Line)\n",
      "Info    : [ 30%] Meshing curve 4 (Line)\n",
      "Info    : [ 40%] Meshing curve 5 (Line)\n",
      "Info    : [ 50%] Meshing curve 6 (Line)\n",
      "Info    : [ 50%] Meshing curve 7 (Line)\n",
      "Info    : [ 60%] Meshing curve 8 (Line)\n",
      "Info    : [ 70%] Meshing curve 9 (Line)\n",
      "Info    : [ 80%] Meshing curve 10 (Line)\n",
      "Info    : [ 90%] Meshing curve 11 (Line)\n",
      "Info    : [100%] Meshing curve 12 (Line)\n",
      "Info    : Done meshing 1D (Wall 0.000657413s, CPU 0.000982s)\n",
      "Info    : Meshing 2D...\n",
      "Info    : [  0%] Meshing surface 1 (Plane, Frontal-Delaunay)\n",
      "Info    : [ 20%] Meshing surface 2 (Plane, Frontal-Delaunay)\n",
      "Info    : [ 40%] Meshing surface 3 (Plane, Frontal-Delaunay)\n",
      "Info    : [ 50%] Meshing surface 4 (Plane, Frontal-Delaunay)\n",
      "Info    : [ 70%] Meshing surface 5 (Plane, Frontal-Delaunay)\n",
      "Info    : [ 90%] Meshing surface 6 (Plane, Frontal-Delaunay)\n",
      "Info    : Done meshing 2D (Wall 0.101391s, CPU 0.1016s)\n",
      "Info    : Meshing 3D...\n",
      "Info    : 3D Meshing 1 volume with 1 connected component\n",
      "Info    : Tetrahedrizing 4966 nodes...\n",
      "Info    : Done tetrahedrizing 4974 nodes (Wall 0.0486227s, CPU 0.044623s)\n",
      "Info    : Reconstructing mesh...\n",
      "Info    :  - Creating surface mesh\n",
      "Info    :  - Identifying boundary edges\n",
      "Info    :  - Recovering boundary\n",
      "Info    :  - Added 1 Steiner point\n",
      "Info    : Done reconstructing mesh (Wall 0.115346s, CPU 0.11267s)\n",
      "Info    : Found volume 1\n",
      "Info    : It. 0 - 0 nodes created - worst tet radius 4.03638 (nodes removed 0 0)\n",
      "Info    : It. 500 - 498 nodes created - worst tet radius 1.74533 (nodes removed 0 2)\n",
      "Info    : It. 1000 - 998 nodes created - worst tet radius 1.44837 (nodes removed 0 2)\n",
      "Info    : It. 1500 - 1498 nodes created - worst tet radius 1.32037 (nodes removed 0 2)\n",
      "Info    : It. 2000 - 1998 nodes created - worst tet radius 1.19129 (nodes removed 0 2)\n",
      "Info    : It. 2500 - 2498 nodes created - worst tet radius 1.11929 (nodes removed 0 2)\n",
      "Info    : It. 3000 - 2998 nodes created - worst tet radius 1.06865 (nodes removed 0 2)\n",
      "Info    : It. 3500 - 3498 nodes created - worst tet radius 1.02659 (nodes removed 0 2)\n",
      "Info    : 3D refinement terminated (8819 nodes total):\n",
      "Info    :  - 1 Delaunay cavities modified for star shapeness\n",
      "Info    :  - 2 nodes could not be inserted\n",
      "Info    :  - 39184 tetrahedra created in 0.145882 sec. (268601 tets/s)\n",
      "Info    : 1 node relocations\n",
      "Info    : Done meshing 3D (Wall 0.426974s, CPU 0.425715s)\n",
      "Info    : Optimizing mesh...\n",
      "Info    : Optimizing volume 1\n",
      "Info    : Optimization starts (volume = 0.00096) with worst = 0.00175098 / average = 0.772445:\n",
      "Info    : 0.00 < quality < 0.10 :        83 elements\n",
      "Info    : 0.10 < quality < 0.20 :       243 elements\n",
      "Info    : 0.20 < quality < 0.30 :       409 elements\n",
      "Info    : 0.30 < quality < 0.40 :       637 elements\n",
      "Info    : 0.40 < quality < 0.50 :       977 elements\n",
      "Info    : 0.50 < quality < 0.60 :      1972 elements\n",
      "Info    : 0.60 < quality < 0.70 :      4954 elements\n",
      "Info    : 0.70 < quality < 0.80 :      9433 elements\n",
      "Info    : 0.80 < quality < 0.90 :     13908 elements\n",
      "Info    : 0.90 < quality < 1.00 :      6567 elements\n",
      "Info    : 722 edge swaps, 23 node relocations (volume = 0.00096): worst = 0.155207 / average = 0.783645 (Wall 0.0106673s, CPU 0.010741s)\n",
      "Info    : 731 edge swaps, 25 node relocations (volume = 0.00096): worst = 0.266518 / average = 0.783793 (Wall 0.0131122s, CPU 0.013225s)\n",
      "Info    : 732 edge swaps, 25 node relocations (volume = 0.00096): worst = 0.266518 / average = 0.783814 (Wall 0.0154148s, CPU 0.015541s)\n",
      "Info    : No ill-shaped tets in the mesh :-)\n",
      "Info    : 0.00 < quality < 0.10 :         0 elements\n",
      "Info    : 0.10 < quality < 0.20 :         0 elements\n",
      "Info    : 0.20 < quality < 0.30 :         2 elements\n",
      "Info    : 0.30 < quality < 0.40 :       638 elements\n",
      "Info    : 0.40 < quality < 0.50 :       950 elements\n",
      "Info    : 0.50 < quality < 0.60 :      1967 elements\n",
      "Info    : 0.60 < quality < 0.70 :      4946 elements\n",
      "Info    : 0.70 < quality < 0.80 :      9435 elements\n",
      "Info    : 0.80 < quality < 0.90 :     14049 elements\n",
      "Info    : 0.90 < quality < 1.00 :      6555 elements\n",
      "Info    : Done optimizing mesh (Wall 0.0453393s, CPU 0.045541s)\n",
      "Info    : 8819 nodes 49023 elements\n"
     ]
    },
    {
     "data": {
      "application/vnd.jupyter.widget-view+json": {
       "model_id": "56bca33e42a24ec5a75824fe51b4fdd4",
       "version_major": 2,
       "version_minor": 0
      },
      "text/plain": [
       "Widget(value='<iframe src=\"http://localhost:41247/index.html?ui=P_0x70f6ff6fedd0_33&reconnect=auto\" class=\"pyv…"
      ]
     },
     "metadata": {},
     "output_type": "display_data"
    }
   ],
   "source": [
    "wf_from_gui.PlotInitMeshObject.pull().show()"
   ]
  },
  {
   "cell_type": "code",
   "execution_count": 68,
   "id": "763407a8-7763-4fa8-8023-b8420d265618",
   "metadata": {},
   "outputs": [],
   "source": [
    "wf_from_gui = pf.get_workflow()"
   ]
  },
  {
   "cell_type": "code",
   "execution_count": 72,
   "id": "46f6e546-d17a-4c78-a086-593ac7ac9bb3",
   "metadata": {},
   "outputs": [
    {
     "name": "stdout",
     "output_type": "stream",
     "text": [
      "A view with name (P_0x70f72de93850_37) is already registered\n",
      " => returning previous one\n"
     ]
    },
    {
     "data": {
      "application/vnd.jupyter.widget-view+json": {
       "model_id": "066f220ee5c84f26a1bf0c99fe7de819",
       "version_major": 2,
       "version_minor": 0
      },
      "text/plain": [
       "Widget(value='<iframe src=\"http://localhost:41247/index.html?ui=P_0x70f72de93850_37&reconnect=auto\" class=\"pyv…"
      ]
     },
     "metadata": {},
     "output_type": "display_data"
    }
   ],
   "source": [
    "wf_from_gui.PlotVonMises3DObject.pull().show()"
   ]
  },
  {
   "cell_type": "code",
   "execution_count": null,
   "id": "5de2d143-d72a-40ab-94cf-405c0b8220ab",
   "metadata": {},
   "outputs": [],
   "source": []
  }
 ],
 "metadata": {
  "kernelspec": {
   "display_name": "Python 3 (ipykernel)",
   "language": "python",
   "name": "python3"
  },
  "language_info": {
   "codemirror_mode": {
    "name": "ipython",
    "version": 3
   },
   "file_extension": ".py",
   "mimetype": "text/x-python",
   "name": "python",
   "nbconvert_exporter": "python",
   "pygments_lexer": "ipython3",
   "version": "3.11.8"
  }
 },
 "nbformat": 4,
 "nbformat_minor": 5
}
