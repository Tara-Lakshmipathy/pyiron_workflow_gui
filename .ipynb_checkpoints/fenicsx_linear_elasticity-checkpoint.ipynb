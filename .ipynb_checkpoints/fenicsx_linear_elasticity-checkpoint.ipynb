{
 "cells": [
  {
   "cell_type": "code",
   "execution_count": 1,
   "id": "9629565c-a2bf-411f-8a03-14c25d366c4e",
   "metadata": {},
   "outputs": [],
   "source": [
    "from pyiron_workflow import Workflow\n",
    "from typing import Optional"
   ]
  },
  {
   "cell_type": "code",
   "execution_count": 2,
   "id": "544ee766-b7df-4d1e-9b9f-149881cf7f0c",
   "metadata": {},
   "outputs": [],
   "source": [
    "from python.pyironflow import PyironFlow\n",
    "import pyiron_nodes as pn\n",
    "import numpy as np"
   ]
  },
  {
   "cell_type": "code",
   "execution_count": null,
   "id": "3ee933eb-07dd-4a7c-8a43-f37044b0a9fc",
   "metadata": {},
   "outputs": [],
   "source": []
  },
  {
   "cell_type": "code",
   "execution_count": null,
   "id": "70d7cc39-8d20-4205-b6f6-56fae5a7187a",
   "metadata": {},
   "outputs": [],
   "source": []
  },
  {
   "cell_type": "code",
   "execution_count": 3,
   "id": "06d3f62d-49b1-4366-9e7b-f2f898298bc2",
   "metadata": {},
   "outputs": [],
   "source": [
    "import pyvista\n",
    "from dolfinx import mesh, fem, plot, io, default_scalar_type\n",
    "from dolfinx.fem.petsc import LinearProblem\n",
    "from mpi4py import MPI\n",
    "import ufl\n",
    "import numpy as np\n",
    "import gmsh"
   ]
  },
  {
   "cell_type": "code",
   "execution_count": 4,
   "id": "329a8a54-f5b6-4097-97ff-b83ffb10f363",
   "metadata": {},
   "outputs": [],
   "source": [
    "L = 3\n",
    "W = 0.2\n",
    "mu = 1\n",
    "rho = 1\n",
    "delta = W / L\n",
    "gamma = 0.4 * delta**2\n",
    "beta = 1.25\n",
    "lambda_ = beta\n",
    "g = gamma"
   ]
  },
  {
   "cell_type": "code",
   "execution_count": 5,
   "id": "c8082be1-e2c3-4b14-a750-9cfbc87a219b",
   "metadata": {},
   "outputs": [
    {
     "name": "stdout",
     "output_type": "stream",
     "text": [
      "Info    : Clearing all models and views...\n",
      "Info    : Done clearing all models and views\n",
      "Info    : Meshing 1D...\n",
      "Info    : [  0%] Meshing curve 1 (Line)\n",
      "Info    : [ 10%] Meshing curve 2 (Line)\n",
      "Info    : [ 20%] Meshing curve 3 (Line)\n",
      "Info    : [ 30%] Meshing curve 4 (Line)\n",
      "Info    : [ 40%] Meshing curve 5 (Line)\n",
      "Info    : [ 50%] Meshing curve 6 (Line)\n",
      "Info    : [ 50%] Meshing curve 7 (Line)\n",
      "Info    : [ 60%] Meshing curve 8 (Line)\n",
      "Info    : [ 70%] Meshing curve 9 (Line)\n",
      "Info    : [ 80%] Meshing curve 10 (Line)\n",
      "Info    : [ 90%] Meshing curve 11 (Line)\n",
      "Info    : [100%] Meshing curve 12 (Line)\n",
      "Info    : Done meshing 1D (Wall 0.000646163s, CPU 0.000746s)\n",
      "Info    : Meshing 2D...\n",
      "Info    : [  0%] Meshing surface 1 (Plane, Frontal-Delaunay)\n",
      "Info    : [ 20%] Meshing surface 2 (Plane, Frontal-Delaunay)\n",
      "Info    : [ 40%] Meshing surface 3 (Plane, Frontal-Delaunay)\n",
      "Info    : [ 50%] Meshing surface 4 (Plane, Frontal-Delaunay)\n",
      "Info    : [ 70%] Meshing surface 5 (Plane, Frontal-Delaunay)\n",
      "Info    : [ 90%] Meshing surface 6 (Plane, Frontal-Delaunay)\n",
      "Info    : Done meshing 2D (Wall 0.0663305s, CPU 0.066566s)\n",
      "Info    : Meshing 3D...\n",
      "Info    : 3D Meshing 1 volume with 1 connected component\n",
      "Info    : Tetrahedrizing 3389 nodes...\n",
      "Info    : Done tetrahedrizing 3397 nodes (Wall 0.0319491s, CPU 0.024001s)\n",
      "Info    : Reconstructing mesh...\n",
      "Info    :  - Creating surface mesh\n",
      "Info    :  - Identifying boundary edges\n",
      "Info    :  - Recovering boundary\n",
      "Info    : Done reconstructing mesh (Wall 0.0729358s, CPU 0.061052s)\n",
      "Info    : Found volume 1\n",
      "Info    : It. 0 - 0 nodes created - worst tet radius 3.42449 (nodes removed 0 0)\n",
      "Info    : It. 500 - 500 nodes created - worst tet radius 1.44882 (nodes removed 0 0)\n",
      "Info    : It. 1000 - 1000 nodes created - worst tet radius 1.21073 (nodes removed 0 0)\n",
      "Info    : It. 1500 - 1500 nodes created - worst tet radius 1.09941 (nodes removed 0 0)\n",
      "Info    : 3D refinement terminated (5350 nodes total):\n",
      "Info    :  - 0 Delaunay cavities modified for star shapeness\n",
      "Info    :  - 0 nodes could not be inserted\n",
      "Info    :  - 22337 tetrahedra created in 0.0714934 sec. (312434 tets/s)\n",
      "Info    : 0 node relocations\n",
      "Info    : Done meshing 3D (Wall 0.230751s, CPU 0.219158s)\n",
      "Info    : Optimizing mesh...\n",
      "Info    : Optimizing volume 1\n",
      "Info    : Optimization starts (volume = 0.12) with worst = 0.00971018 / average = 0.770967:\n",
      "Info    : 0.00 < quality < 0.10 :        65 elements\n",
      "Info    : 0.10 < quality < 0.20 :       183 elements\n",
      "Info    : 0.20 < quality < 0.30 :       247 elements\n",
      "Info    : 0.30 < quality < 0.40 :       386 elements\n",
      "Info    : 0.40 < quality < 0.50 :       492 elements\n",
      "Info    : 0.50 < quality < 0.60 :       966 elements\n",
      "Info    : 0.60 < quality < 0.70 :      2957 elements\n",
      "Info    : 0.70 < quality < 0.80 :      5581 elements\n",
      "Info    : 0.80 < quality < 0.90 :      7673 elements\n",
      "Info    : 0.90 < quality < 1.00 :      3787 elements\n",
      "Info    : 492 edge swaps, 12 node relocations (volume = 0.12): worst = 0.260642 / average = 0.785132 (Wall 0.00615639s, CPU 0.006209s)\n",
      "Info    : 497 edge swaps, 12 node relocations (volume = 0.12): worst = 0.290225 / average = 0.78528 (Wall 0.00731301s, CPU 0.007395s)\n",
      "Info    : No ill-shaped tets in the mesh :-)\n",
      "Info    : 0.00 < quality < 0.10 :         0 elements\n",
      "Info    : 0.10 < quality < 0.20 :         0 elements\n",
      "Info    : 0.20 < quality < 0.30 :         1 elements\n",
      "Info    : 0.30 < quality < 0.40 :       388 elements\n",
      "Info    : 0.40 < quality < 0.50 :       460 elements\n",
      "Info    : 0.50 < quality < 0.60 :       927 elements\n",
      "Info    : 0.60 < quality < 0.70 :      2947 elements\n",
      "Info    : 0.70 < quality < 0.80 :      5602 elements\n",
      "Info    : 0.80 < quality < 0.90 :      7761 elements\n",
      "Info    : 0.90 < quality < 1.00 :      3796 elements\n",
      "Info    : Done optimizing mesh (Wall 0.0226183s, CPU 0.022818s)\n",
      "Info    : 5350 nodes 29120 elements\n"
     ]
    }
   ],
   "source": [
    "from dolfinx.io import gmshio\n",
    "gmsh.initialize()\n",
    "gmsh.clear()\n",
    "box=gmsh.model.occ.addBox(0,0,0,L,W,W)\n",
    "gmsh.model.occ.synchronize()\n",
    "gdim = 3\n",
    "gmsh.model.addPhysicalGroup(gdim, [box], 1)\n",
    "gmsh.option.setNumber(\"Mesh.CharacteristicLengthMin\", 0.03)\n",
    "gmsh.option.setNumber(\"Mesh.CharacteristicLengthMax\", 0.03)\n",
    "#gmsh.option.setNumber(\"Mesh.SubdivisionAlgorithm\", 1)\n",
    "gmsh.model.mesh.generate(gdim)\n",
    "gmsh_model_rank = 0\n",
    "mesh_comm = MPI.COMM_WORLD\n",
    "domain, cell_markers, facet_markers = gmshio.model_to_mesh(gmsh.model, mesh_comm, gmsh_model_rank, gdim=gdim)\n",
    "V = fem.functionspace(domain, (\"Lagrange\", 1, (3,)))"
   ]
  },
  {
   "cell_type": "code",
   "execution_count": 6,
   "id": "08570433-d907-485a-af4e-5026f0d83fc2",
   "metadata": {},
   "outputs": [
    {
     "data": {
      "application/vnd.jupyter.widget-view+json": {
       "model_id": "c1945007f3ba4da0a4f424fb141b11d3",
       "version_major": 2,
       "version_minor": 0
      },
      "text/plain": [
       "Widget(value='<iframe src=\"http://localhost:43811/index.html?ui=P_0x7fecdcb0ae50_0&reconnect=auto\" class=\"pyvi…"
      ]
     },
     "metadata": {},
     "output_type": "display_data"
    }
   ],
   "source": [
    "p = pyvista.Plotter()\n",
    "topology, cell_types, geometry = plot.vtk_mesh(V)\n",
    "grid = pyvista.UnstructuredGrid(topology, cell_types, geometry)\n",
    "\n",
    "p.add_mesh(grid, show_edges=True)\n",
    "p.show()"
   ]
  },
  {
   "cell_type": "code",
   "execution_count": 7,
   "id": "4bdb43a2-bfd7-49a7-b8f3-3a4dda522f38",
   "metadata": {},
   "outputs": [],
   "source": [
    "def clamped_boundary(x):\n",
    "    return np.isclose(x[0], 0)\n",
    "\n",
    "#def clamped_boundary1(x):\n",
    "#    return np.isclose(x[0], 1)\n",
    "\n",
    "boundary_dofs = fem.locate_dofs_geometrical(V, clamped_boundary)\n",
    "#boundary_dofs1 = fem.locate_dofs_geometrical(V, clamped_boundary1)\n",
    "u_D = np.array([0, 0, 0], dtype=default_scalar_type)\n",
    "#bc = fem.dirichletbc(u_D, boundary_dofs, V)\n",
    "bc_0 = fem.dirichletbc(u_D, boundary_dofs, V)\n",
    "#bc_1 = fem.dirichletbc(u_D, boundary_dofs1, V)\n",
    "#bc = [bc_0, bc_1]\n",
    "bc = [bc_0]\n",
    "#bc_0"
   ]
  },
  {
   "cell_type": "code",
   "execution_count": 8,
   "id": "71edac7f-c17c-4133-9566-0d64dc31f929",
   "metadata": {},
   "outputs": [
    {
     "data": {
      "text/plain": [
       "'\\ndef epsilon(u):\\n    return ufl.sym(ufl.grad(u))  # Equivalent to 0.5*(ufl.nabla_grad(u) + ufl.nabla_grad(u).T)\\n\\n\\ndef sigma(u):\\n    return lambda_ * ufl.nabla_div(u) * ufl.Identity(len(u)) + 2 * mu * epsilon(u)\\n'"
      ]
     },
     "execution_count": 8,
     "metadata": {},
     "output_type": "execute_result"
    }
   ],
   "source": [
    "'''\n",
    "def epsilon(u):\n",
    "    return ufl.sym(ufl.grad(u))  # Equivalent to 0.5*(ufl.nabla_grad(u) + ufl.nabla_grad(u).T)\n",
    "\n",
    "\n",
    "def sigma(u):\n",
    "    return lambda_ * ufl.nabla_div(u) * ufl.Identity(len(u)) + 2 * mu * epsilon(u)\n",
    "'''"
   ]
  },
  {
   "cell_type": "code",
   "execution_count": 9,
   "id": "09dda85c-a2da-4d9d-abaf-8acd392cd12a",
   "metadata": {},
   "outputs": [],
   "source": [
    "def epsilon(u):\n",
    "    return ufl.sym(ufl.grad(u))\n",
    "def strain2voigt(e):\n",
    "    \"\"\"e is a 2nd-order tensor, returns its Voigt vectorial representation\"\"\"\n",
    "    return ufl.as_vector([e[0,0], e[1,1], e[2,2], 2*e[0,1], 2*e[0,2], 2*e[1,2]])\n",
    "    #return ufl.as_vector([e[0,0],e[1,1],2*e[0,1]])\n",
    "def voigt2stress(s):\n",
    "    \"\"\"\n",
    "    s is a stress-like vector (no 2 factor on last component)\n",
    "    returns its tensorial representation\n",
    "    \"\"\"\n",
    "    return ufl.as_tensor([[s[0], s[3], s[4]], [s[3], s[1], s[5]], [s[4], s[5], s[2]]])\n",
    "def sigma(u):\n",
    "    return voigt2stress(ufl.dot(C, strain2voigt(epsilon(u))))"
   ]
  },
  {
   "cell_type": "code",
   "execution_count": 10,
   "id": "ca723123-e9e1-4411-843d-746e33a2da6c",
   "metadata": {},
   "outputs": [],
   "source": [
    "C = ufl.as_matrix([[140.64480049, 75.1976927, 75.1976927, 0., 0., 0.],\n",
    "                   [75.1976927, 140.64480049, 75.1976927, 0., 0., 0.],\n",
    "                   [75.1976927, 75.1976927, 140.64480049, 0., 0., 0.],\n",
    "                   [0., 0., 0., 68.8204162, 0., 0.],\n",
    "                   [0., 0., 0., 0., 68.8204162, 0.],\n",
    "                   [0., 0., 0., 0., 0., 68.8204162]])"
   ]
  },
  {
   "cell_type": "code",
   "execution_count": 11,
   "id": "a2d9722f-9c67-4266-a20a-50d33d911965",
   "metadata": {},
   "outputs": [],
   "source": [
    "ds = ufl.Measure(\"ds\", domain=domain)\n",
    "\n",
    "T = fem.Constant(domain, default_scalar_type((0, 0, 0)))\n",
    "u = ufl.TrialFunction(V)\n",
    "v = ufl.TestFunction(V)"
   ]
  },
  {
   "cell_type": "code",
   "execution_count": 12,
   "id": "d341f3aa-9c57-4f3d-9b26-c1a2ed528eec",
   "metadata": {},
   "outputs": [
    {
     "data": {
      "text/plain": [
       "(3, 3)"
      ]
     },
     "execution_count": 12,
     "metadata": {},
     "output_type": "execute_result"
    }
   ],
   "source": [
    "e = epsilon(v)\n",
    "e.ufl_shape"
   ]
  },
  {
   "cell_type": "code",
   "execution_count": 13,
   "id": "0a124bab-4a22-4c3a-a97b-c89ad8efba2a",
   "metadata": {},
   "outputs": [
    {
     "data": {
      "text/plain": [
       "ListTensor(Indexed(Sym(Grad(Argument(FunctionSpace(Mesh(blocked element (Basix element (P, tetrahedron, 1, equispaced, unset, False, float64, []), (3,)), 0), blocked element (Basix element (P, tetrahedron, 1, gll_warped, unset, False, float64, []), (3,))), 0, None))), MultiIndex((FixedIndex(0), FixedIndex(0)))), Indexed(Sym(Grad(Argument(FunctionSpace(Mesh(blocked element (Basix element (P, tetrahedron, 1, equispaced, unset, False, float64, []), (3,)), 0), blocked element (Basix element (P, tetrahedron, 1, gll_warped, unset, False, float64, []), (3,))), 0, None))), MultiIndex((FixedIndex(1), FixedIndex(1)))), Indexed(Sym(Grad(Argument(FunctionSpace(Mesh(blocked element (Basix element (P, tetrahedron, 1, equispaced, unset, False, float64, []), (3,)), 0), blocked element (Basix element (P, tetrahedron, 1, gll_warped, unset, False, float64, []), (3,))), 0, None))), MultiIndex((FixedIndex(2), FixedIndex(2)))), Product(IntValue(2), Indexed(Sym(Grad(Argument(FunctionSpace(Mesh(blocked element (Basix element (P, tetrahedron, 1, equispaced, unset, False, float64, []), (3,)), 0), blocked element (Basix element (P, tetrahedron, 1, gll_warped, unset, False, float64, []), (3,))), 0, None))), MultiIndex((FixedIndex(0), FixedIndex(1))))), Product(IntValue(2), Indexed(Sym(Grad(Argument(FunctionSpace(Mesh(blocked element (Basix element (P, tetrahedron, 1, equispaced, unset, False, float64, []), (3,)), 0), blocked element (Basix element (P, tetrahedron, 1, gll_warped, unset, False, float64, []), (3,))), 0, None))), MultiIndex((FixedIndex(0), FixedIndex(2))))), Product(IntValue(2), Indexed(Sym(Grad(Argument(FunctionSpace(Mesh(blocked element (Basix element (P, tetrahedron, 1, equispaced, unset, False, float64, []), (3,)), 0), blocked element (Basix element (P, tetrahedron, 1, gll_warped, unset, False, float64, []), (3,))), 0, None))), MultiIndex((FixedIndex(1), FixedIndex(2))))))"
      ]
     },
     "execution_count": 13,
     "metadata": {},
     "output_type": "execute_result"
    }
   ],
   "source": [
    "strain2voigt(epsilon(v))"
   ]
  },
  {
   "cell_type": "code",
   "execution_count": 14,
   "id": "71406e7d-01c8-4dc2-b021-1053833ea7e5",
   "metadata": {},
   "outputs": [],
   "source": [
    "ds = ufl.Measure(\"ds\", domain=domain)\n",
    "\n",
    "T = fem.Constant(domain, default_scalar_type((0, 0, 0)))\n",
    "u = ufl.TrialFunction(V)\n",
    "v = ufl.TestFunction(V)\n",
    "f = fem.Constant(domain, default_scalar_type((0, 0, -rho * g)))\n",
    "a = ufl.inner(sigma(u), epsilon(v)) * ufl.dx\n",
    "L = ufl.dot(f, v) * ufl.dx + ufl.dot(T, v) * ds"
   ]
  },
  {
   "cell_type": "code",
   "execution_count": 15,
   "id": "9359ce4b-bc96-4de3-a7c8-e0fec7bbcbce",
   "metadata": {},
   "outputs": [],
   "source": [
    "problem = LinearProblem(a, L, bcs=bc, petsc_options={\"ksp_type\": \"preonly\", \"pc_type\": \"lu\"})\n",
    "uh = problem.solve()"
   ]
  },
  {
   "cell_type": "code",
   "execution_count": 16,
   "id": "eea6fe26-b8fd-41c6-b755-c0515cf87382",
   "metadata": {},
   "outputs": [
    {
     "data": {
      "application/vnd.jupyter.widget-view+json": {
       "model_id": "8f083bdb451d41578521b7990192eb58",
       "version_major": 2,
       "version_minor": 0
      },
      "text/plain": [
       "Widget(value='<iframe src=\"http://localhost:43811/index.html?ui=P_0x7fecd1196710_2&reconnect=auto\" class=\"pyvi…"
      ]
     },
     "metadata": {},
     "output_type": "display_data"
    }
   ],
   "source": [
    "p = pyvista.Plotter()\n",
    "topology, cell_types, geometry = plot.vtk_mesh(V)\n",
    "grid = pyvista.UnstructuredGrid(topology, cell_types, geometry)\n",
    "\n",
    "# Attach vector values to grid and warp grid by vector\n",
    "grid[\"u\"] = uh.x.array.reshape((geometry.shape[0], 3))\n",
    "#actor_0 = p.add_mesh(grid, style=\"wireframe\", color=\"k\")\n",
    "warped = grid.warp_by_vector(\"u\", factor=10.0)\n",
    "actor_1 = p.add_mesh(warped, show_edges=True)\n",
    "s = sigma(uh) - 1. / 3 * ufl.tr(sigma(uh)) * ufl.Identity(len(uh))\n",
    "von_Mises = ufl.sqrt(3. / 2 * ufl.inner(s, s))\n",
    "V_von_mises = fem.functionspace(domain, (\"DG\", 0))\n",
    "stress_expr = fem.Expression(von_Mises, V_von_mises.element.interpolation_points())\n",
    "stresses = fem.Function(V_von_mises)\n",
    "stresses.interpolate(stress_expr)\n",
    "\n",
    "warped.cell_data[\"VonMises\"] = stresses.vector.array\n",
    "warped.set_active_scalars(\"VonMises\")\n",
    "p = pyvista.Plotter()\n",
    "p.add_mesh(warped, show_edges=True)\n",
    "p.show_axes()\n",
    "p.show()"
   ]
  },
  {
   "cell_type": "code",
   "execution_count": null,
   "id": "9d8a3001-17c5-42a3-886e-f4442f497648",
   "metadata": {},
   "outputs": [],
   "source": []
  }
 ],
 "metadata": {
  "kernelspec": {
   "display_name": "Python 3 (ipykernel)",
   "language": "python",
   "name": "python3"
  },
  "language_info": {
   "codemirror_mode": {
    "name": "ipython",
    "version": 3
   },
   "file_extension": ".py",
   "mimetype": "text/x-python",
   "name": "python",
   "nbconvert_exporter": "python",
   "pygments_lexer": "ipython3",
   "version": "3.11.8"
  }
 },
 "nbformat": 4,
 "nbformat_minor": 5
}
