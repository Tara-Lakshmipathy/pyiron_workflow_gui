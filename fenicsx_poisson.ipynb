{
 "cells": [
  {
   "cell_type": "code",
   "execution_count": 1,
   "id": "db578a53-b1a7-4b48-a076-459fa6ae65b0",
   "metadata": {},
   "outputs": [],
   "source": [
    "import pyvista\n",
    "from dolfinx import mesh, fem, plot, io, default_scalar_type\n",
    "from dolfinx.fem.petsc import LinearProblem\n",
    "from mpi4py import MPI\n",
    "import ufl\n",
    "import numpy as np\n",
    "from dolfinx.plot import vtk_mesh\n",
    "from dolfinx.io import gmshio\n",
    "import matplotlib.pyplot as plt\n",
    "from dolfinx import geometry\n",
    "import gmsh"
   ]
  },
  {
   "cell_type": "code",
   "execution_count": 2,
   "id": "65900699-3e4d-4bbf-964f-001fbb518108",
   "metadata": {},
   "outputs": [],
   "source": [
    "pyvista.start_xvfb()"
   ]
  },
  {
   "cell_type": "code",
   "execution_count": 3,
   "id": "26e3bc82-852e-4338-89fb-9ba8a333cbd9",
   "metadata": {},
   "outputs": [],
   "source": [
    "gmsh.initialize()"
   ]
  },
  {
   "cell_type": "code",
   "execution_count": 4,
   "id": "ea9da3fb-7e3d-4a7c-99ba-f21ca01b0052",
   "metadata": {},
   "outputs": [
    {
     "name": "stdout",
     "output_type": "stream",
     "text": [
      "Info    : Meshing 1D...\n",
      "Info    : Meshing curve 1 (Ellipse)\n",
      "Info    : Done meshing 1D (Wall 0.000130505s, CPU 0.000278s)\n",
      "Info    : Meshing 2D...\n",
      "Info    : Meshing surface 1 (Plane, Frontal-Delaunay)\n",
      "Info    : Done meshing 2D (Wall 0.11886s, CPU 0.112457s)\n",
      "Info    : 4201 nodes 8401 elements\n"
     ]
    }
   ],
   "source": [
    "membrane = gmsh.model.occ.addDisk(0, 0, 0, 1, 1)\n",
    "gmsh.model.occ.synchronize()\n",
    "gdim = 2\n",
    "gmsh.model.addPhysicalGroup(gdim, [membrane], 1)\n",
    "gmsh.option.setNumber(\"Mesh.CharacteristicLengthMin\", 0.03)\n",
    "gmsh.option.setNumber(\"Mesh.CharacteristicLengthMax\", 0.03)\n",
    "gmsh.model.mesh.generate(gdim)\n",
    "gmsh_model_rank = 0\n",
    "mesh_comm = MPI.COMM_WORLD\n",
    "domain, cell_markers, facet_markers = gmshio.model_to_mesh(gmsh.model, mesh_comm, gmsh_model_rank, gdim=gdim)"
   ]
  },
  {
   "cell_type": "code",
   "execution_count": 5,
   "id": "f670af9e-0e74-40de-af4b-cff79edaaabc",
   "metadata": {},
   "outputs": [],
   "source": [
    "V = fem.functionspace(domain, (\"Lagrange\", 1))"
   ]
  },
  {
   "cell_type": "code",
   "execution_count": 6,
   "id": "97e0e24c-8af2-4faf-aabc-368d077576b7",
   "metadata": {},
   "outputs": [
    {
     "data": {
      "application/vnd.jupyter.widget-view+json": {
       "model_id": "d4e6ea850ae54f1c891233020d0224ed",
       "version_major": 2,
       "version_minor": 0
      },
      "text/plain": [
       "Widget(value='<iframe src=\"http://localhost:35251/index.html?ui=P_0x78b7188f8490_0&reconnect=auto\" class=\"pyvi…"
      ]
     },
     "metadata": {},
     "output_type": "display_data"
    }
   ],
   "source": [
    "p = pyvista.Plotter()\n",
    "topology, cell_types, geometry = plot.vtk_mesh(V)\n",
    "grid = pyvista.UnstructuredGrid(topology, cell_types, geometry)\n",
    "\n",
    "p.add_mesh(grid, show_edges=True)\n",
    "p.show()"
   ]
  },
  {
   "cell_type": "code",
   "execution_count": 7,
   "id": "62b1e312-ca43-41dd-b765-c5e05b63b66f",
   "metadata": {},
   "outputs": [],
   "source": [
    "x = ufl.SpatialCoordinate(domain)\n",
    "beta = fem.Constant(domain, default_scalar_type(8))\n",
    "R0 = fem.Constant(domain, default_scalar_type(0.6))\n",
    "p = 4 * ufl.exp(-beta**2 * (x[0]**2 + (x[1] - R0)**2))"
   ]
  },
  {
   "cell_type": "code",
   "execution_count": 8,
   "id": "c70580b8-f6bc-4179-be78-5d7d1f0a4d3b",
   "metadata": {},
   "outputs": [],
   "source": [
    "def on_boundary(x):\n",
    "    return np.isclose(np.sqrt(x[0]**2 + x[1]**2), 1)\n",
    "\n",
    "boundary_dofs = fem.locate_dofs_geometrical(V, on_boundary)\n",
    "bc = fem.dirichletbc(default_scalar_type(0), boundary_dofs, V)"
   ]
  },
  {
   "cell_type": "code",
   "execution_count": 10,
   "id": "b7198efc-50d4-4c80-abaf-2d1a151ce618",
   "metadata": {},
   "outputs": [
    {
     "data": {
      "text/plain": [
       "\u001b[0;31mSignature:\u001b[0m\n",
       "\u001b[0mfem\u001b[0m\u001b[0;34m.\u001b[0m\u001b[0mlocate_dofs_geometrical\u001b[0m\u001b[0;34m(\u001b[0m\u001b[0;34m\u001b[0m\n",
       "\u001b[0;34m\u001b[0m    \u001b[0mV\u001b[0m\u001b[0;34m:\u001b[0m \u001b[0;34m'typing.Union[dolfinx.fem.FunctionSpace, typing.Iterable[dolfinx.fem.FunctionSpace]]'\u001b[0m\u001b[0;34m,\u001b[0m\u001b[0;34m\u001b[0m\n",
       "\u001b[0;34m\u001b[0m    \u001b[0mmarker\u001b[0m\u001b[0;34m:\u001b[0m \u001b[0;34m'typing.Callable'\u001b[0m\u001b[0;34m,\u001b[0m\u001b[0;34m\u001b[0m\n",
       "\u001b[0;34m\u001b[0m\u001b[0;34m)\u001b[0m \u001b[0;34m->\u001b[0m \u001b[0;34m'np.ndarray'\u001b[0m\u001b[0;34m\u001b[0m\u001b[0;34m\u001b[0m\u001b[0m\n",
       "\u001b[0;31mSource:\u001b[0m   \n",
       "\u001b[0;32mdef\u001b[0m \u001b[0mlocate_dofs_geometrical\u001b[0m\u001b[0;34m(\u001b[0m\u001b[0;34m\u001b[0m\n",
       "\u001b[0;34m\u001b[0m    \u001b[0mV\u001b[0m\u001b[0;34m:\u001b[0m \u001b[0mtyping\u001b[0m\u001b[0;34m.\u001b[0m\u001b[0mUnion\u001b[0m\u001b[0;34m[\u001b[0m\u001b[0mdolfinx\u001b[0m\u001b[0;34m.\u001b[0m\u001b[0mfem\u001b[0m\u001b[0;34m.\u001b[0m\u001b[0mFunctionSpace\u001b[0m\u001b[0;34m,\u001b[0m \u001b[0mtyping\u001b[0m\u001b[0;34m.\u001b[0m\u001b[0mIterable\u001b[0m\u001b[0;34m[\u001b[0m\u001b[0mdolfinx\u001b[0m\u001b[0;34m.\u001b[0m\u001b[0mfem\u001b[0m\u001b[0;34m.\u001b[0m\u001b[0mFunctionSpace\u001b[0m\u001b[0;34m]\u001b[0m\u001b[0;34m]\u001b[0m\u001b[0;34m,\u001b[0m\u001b[0;34m\u001b[0m\n",
       "\u001b[0;34m\u001b[0m    \u001b[0mmarker\u001b[0m\u001b[0;34m:\u001b[0m \u001b[0mtyping\u001b[0m\u001b[0;34m.\u001b[0m\u001b[0mCallable\u001b[0m\u001b[0;34m,\u001b[0m\u001b[0;34m\u001b[0m\n",
       "\u001b[0;34m\u001b[0m\u001b[0;34m)\u001b[0m \u001b[0;34m->\u001b[0m \u001b[0mnp\u001b[0m\u001b[0;34m.\u001b[0m\u001b[0mndarray\u001b[0m\u001b[0;34m:\u001b[0m\u001b[0;34m\u001b[0m\n",
       "\u001b[0;34m\u001b[0m    \u001b[0;34m\"\"\"Locate degrees-of-freedom geometrically using a marker function.\u001b[0m\n",
       "\u001b[0;34m\u001b[0m\n",
       "\u001b[0;34m    Args:\u001b[0m\n",
       "\u001b[0;34m        V: Function space(s) in which to search for degree-of-freedom indices.\u001b[0m\n",
       "\u001b[0;34m        marker: A function that takes an array of points ``x`` with shape\u001b[0m\n",
       "\u001b[0;34m            ``(gdim, num_points)`` and returns an array of booleans of\u001b[0m\n",
       "\u001b[0;34m            length ``num_points``, evaluating to ``True`` for entities whose\u001b[0m\n",
       "\u001b[0;34m            degree-of-freedom should be returned.\u001b[0m\n",
       "\u001b[0;34m\u001b[0m\n",
       "\u001b[0;34m    Returns:\u001b[0m\n",
       "\u001b[0;34m        An array of degree-of-freedom indices (local to the process)\u001b[0m\n",
       "\u001b[0;34m        for degrees-of-freedom whose coordinate evaluates to True for the\u001b[0m\n",
       "\u001b[0;34m        marker function.\u001b[0m\n",
       "\u001b[0;34m\u001b[0m\n",
       "\u001b[0;34m        If ``V`` is a list of two function spaces, then a 2-D array of\u001b[0m\n",
       "\u001b[0;34m        shape (number of dofs, 2) is returned.\u001b[0m\n",
       "\u001b[0;34m\u001b[0m\n",
       "\u001b[0;34m        Returned degree-of-freedom indices are unique and ordered by the\u001b[0m\n",
       "\u001b[0;34m        first column.\u001b[0m\n",
       "\u001b[0;34m\u001b[0m\n",
       "\u001b[0;34m    \"\"\"\u001b[0m\u001b[0;34m\u001b[0m\n",
       "\u001b[0;34m\u001b[0m\u001b[0;34m\u001b[0m\n",
       "\u001b[0;34m\u001b[0m    \u001b[0;32mtry\u001b[0m\u001b[0;34m:\u001b[0m\u001b[0;34m\u001b[0m\n",
       "\u001b[0;34m\u001b[0m        \u001b[0;32mreturn\u001b[0m \u001b[0m_cpp\u001b[0m\u001b[0;34m.\u001b[0m\u001b[0mfem\u001b[0m\u001b[0;34m.\u001b[0m\u001b[0mlocate_dofs_geometrical\u001b[0m\u001b[0;34m(\u001b[0m\u001b[0mV\u001b[0m\u001b[0;34m.\u001b[0m\u001b[0m_cpp_object\u001b[0m\u001b[0;34m,\u001b[0m \u001b[0mmarker\u001b[0m\u001b[0;34m)\u001b[0m  \u001b[0;31m# type: ignore\u001b[0m\u001b[0;34m\u001b[0m\n",
       "\u001b[0;34m\u001b[0m    \u001b[0;32mexcept\u001b[0m \u001b[0mAttributeError\u001b[0m\u001b[0;34m:\u001b[0m\u001b[0;34m\u001b[0m\n",
       "\u001b[0;34m\u001b[0m        \u001b[0m_V\u001b[0m \u001b[0;34m=\u001b[0m \u001b[0;34m[\u001b[0m\u001b[0mspace\u001b[0m\u001b[0;34m.\u001b[0m\u001b[0m_cpp_object\u001b[0m \u001b[0;32mfor\u001b[0m \u001b[0mspace\u001b[0m \u001b[0;32min\u001b[0m \u001b[0mV\u001b[0m\u001b[0;34m]\u001b[0m\u001b[0;34m\u001b[0m\n",
       "\u001b[0;34m\u001b[0m        \u001b[0;32mreturn\u001b[0m \u001b[0m_cpp\u001b[0m\u001b[0;34m.\u001b[0m\u001b[0mfem\u001b[0m\u001b[0;34m.\u001b[0m\u001b[0mlocate_dofs_geometrical\u001b[0m\u001b[0;34m(\u001b[0m\u001b[0m_V\u001b[0m\u001b[0;34m,\u001b[0m \u001b[0mmarker\u001b[0m\u001b[0;34m)\u001b[0m\u001b[0;34m\u001b[0m\u001b[0;34m\u001b[0m\u001b[0m\n",
       "\u001b[0;31mFile:\u001b[0m      ~/anaconda3/envs/gui_workflow_fenicsx/lib/python3.11/site-packages/dolfinx/fem/bcs.py\n",
       "\u001b[0;31mType:\u001b[0m      function"
      ]
     },
     "metadata": {},
     "output_type": "display_data"
    }
   ],
   "source": [
    "fem.locate_dofs_geometrical??"
   ]
  },
  {
   "cell_type": "code",
   "execution_count": 9,
   "id": "08cc0fa1-60b3-4b14-a51b-4eaf380180d5",
   "metadata": {},
   "outputs": [],
   "source": [
    "u = ufl.TrialFunction(V)\n",
    "v = ufl.TestFunction(V)\n",
    "a = ufl.dot(ufl.grad(u), ufl.grad(v)) * ufl.dx\n",
    "L = p * v * ufl.dx\n",
    "problem = LinearProblem(a, L, bcs=[bc], petsc_options={\"ksp_type\": \"preonly\", \"pc_type\": \"lu\"})\n",
    "uh = problem.solve()"
   ]
  },
  {
   "cell_type": "code",
   "execution_count": 10,
   "id": "6fe49552-f281-4697-bc66-e9355ec6bd55",
   "metadata": {},
   "outputs": [
    {
     "data": {
      "application/vnd.jupyter.widget-view+json": {
       "model_id": "b4e04311c7d64709a9f11ccce3935a5f",
       "version_major": 2,
       "version_minor": 0
      },
      "text/plain": [
       "Widget(value='<iframe src=\"http://localhost:43085/index.html?ui=P_0x702ff33dd8d0_1&reconnect=auto\" class=\"pyvi…"
      ]
     },
     "metadata": {},
     "output_type": "display_data"
    }
   ],
   "source": [
    "topology, cell_types, x = vtk_mesh(V)\n",
    "grid = pyvista.UnstructuredGrid(topology, cell_types, x)\n",
    "\n",
    "grid.point_data[\"u\"] = uh.x.array\n",
    "warped = grid.warp_by_scalar(\"u\", factor=25)\n",
    "\n",
    "plotter = pyvista.Plotter()\n",
    "plotter.add_mesh(warped, show_edges=True, show_scalar_bar=True, scalars=\"u\")\n",
    "plotter.show()"
   ]
  },
  {
   "cell_type": "code",
   "execution_count": 11,
   "id": "41e77d3e-eca1-4581-bfc5-0f917cad0bd4",
   "metadata": {},
   "outputs": [
    {
     "data": {
      "application/vnd.jupyter.widget-view+json": {
       "model_id": "18870c761a7b4088932803bdb9e314a4",
       "version_major": 2,
       "version_minor": 0
      },
      "text/plain": [
       "Widget(value='<iframe src=\"http://localhost:43085/index.html?ui=P_0x702ff3407c10_2&reconnect=auto\" class=\"pyvi…"
      ]
     },
     "metadata": {},
     "output_type": "display_data"
    }
   ],
   "source": [
    "Q = fem.functionspace(domain, (\"Lagrange\", 5))\n",
    "expr = fem.Expression(p, Q.element.interpolation_points())\n",
    "pressure = fem.Function(Q)\n",
    "pressure.interpolate(expr)\n",
    "\n",
    "load_plotter = pyvista.Plotter()\n",
    "p_grid = pyvista.UnstructuredGrid(*vtk_mesh(Q))\n",
    "p_grid.point_data[\"p\"] = pressure.x.array.real\n",
    "warped_p = p_grid.warp_by_scalar(\"p\", factor=0.5)\n",
    "warped_p.set_active_scalars(\"p\")\n",
    "load_plotter.add_mesh(warped_p, show_edges=False, show_scalar_bar=True)\n",
    "load_plotter.show()"
   ]
  },
  {
   "cell_type": "code",
   "execution_count": 12,
   "id": "4843c087-90fc-40b8-96a1-bb5e173d4e2a",
   "metadata": {},
   "outputs": [
    {
     "ename": "AttributeError",
     "evalue": "'numpy.ndarray' object has no attribute 'bb_tree'",
     "output_type": "error",
     "traceback": [
      "\u001b[0;31m---------------------------------------------------------------------------\u001b[0m",
      "\u001b[0;31mAttributeError\u001b[0m                            Traceback (most recent call last)",
      "Cell \u001b[0;32mIn[12], line 7\u001b[0m\n\u001b[1;32m      5\u001b[0m u_values \u001b[38;5;241m=\u001b[39m []\n\u001b[1;32m      6\u001b[0m p_values \u001b[38;5;241m=\u001b[39m []\n\u001b[0;32m----> 7\u001b[0m bb_tree \u001b[38;5;241m=\u001b[39m \u001b[43mgeometry\u001b[49m\u001b[38;5;241;43m.\u001b[39;49m\u001b[43mbb_tree\u001b[49m(domain, domain\u001b[38;5;241m.\u001b[39mtopology\u001b[38;5;241m.\u001b[39mdim)\n\u001b[1;32m      8\u001b[0m cells \u001b[38;5;241m=\u001b[39m []\n\u001b[1;32m      9\u001b[0m points_on_proc \u001b[38;5;241m=\u001b[39m []\n",
      "\u001b[0;31mAttributeError\u001b[0m: 'numpy.ndarray' object has no attribute 'bb_tree'"
     ]
    }
   ],
   "source": [
    "tol = 0.001  # Avoid hitting the outside of the domain\n",
    "y = np.linspace(-1 + tol, 1 - tol, 101)\n",
    "points = np.zeros((3, 101))\n",
    "points[1] = y\n",
    "u_values = []\n",
    "p_values = []\n",
    "bb_tree = geometry.bb_tree(domain, domain.topology.dim)\n",
    "cells = []\n",
    "points_on_proc = []\n",
    "# Find cells whose bounding-box collide with the the points\n",
    "cell_candidates = geometry.compute_collisions_points(bb_tree, points.T)\n",
    "# Choose one of the cells that contains the point\n",
    "colliding_cells = geometry.compute_colliding_cells(domain, cell_candidates, points.T)\n",
    "for i, point in enumerate(points.T):\n",
    "    if len(colliding_cells.links(i)) > 0:\n",
    "        points_on_proc.append(point)\n",
    "        cells.append(colliding_cells.links(i)[0])\n",
    "\n",
    "points_on_proc = np.array(points_on_proc, dtype=np.float64)\n",
    "u_values = uh.eval(points_on_proc, cells)\n",
    "p_values = pressure.eval(points_on_proc, cells)\n",
    "fig = plt.figure()\n",
    "plt.plot(points_on_proc[:, 1], 50 * u_values, \"k\", linewidth=2, label=\"Deflection ($\\\\times 50$)\")\n",
    "plt.plot(points_on_proc[:, 1], p_values, \"b--\", linewidth=2, label=\"Load\")\n",
    "plt.grid(True)\n",
    "plt.xlabel(\"y\")\n",
    "plt.legend()\n",
    "# If run in parallel as a python file, we save a plot per processor\n",
    "plt.savefig(f\"membrane_rank{MPI.COMM_WORLD.rank:d}.png\")"
   ]
  }
 ],
 "metadata": {
  "kernelspec": {
   "display_name": "Python 3 (ipykernel)",
   "language": "python",
   "name": "python3"
  },
  "language_info": {
   "codemirror_mode": {
    "name": "ipython",
    "version": 3
   },
   "file_extension": ".py",
   "mimetype": "text/x-python",
   "name": "python",
   "nbconvert_exporter": "python",
   "pygments_lexer": "ipython3",
   "version": "3.11.8"
  }
 },
 "nbformat": 4,
 "nbformat_minor": 5
}
