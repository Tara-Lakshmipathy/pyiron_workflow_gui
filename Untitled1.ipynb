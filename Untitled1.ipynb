{
 "cells": [
  {
   "cell_type": "code",
   "execution_count": 1,
   "id": "7b6966e5-24e6-4e0c-b225-eadc3cdf487d",
   "metadata": {},
   "outputs": [],
   "source": [
    "import pyvista\n",
    "from dolfinx import mesh, fem, plot, io, default_scalar_type\n",
    "from dolfinx.fem.petsc import LinearProblem\n",
    "from mpi4py import MPI\n",
    "import ufl\n",
    "import numpy as np\n",
    "from dolfinx.plot import vtk_mesh\n",
    "from dolfinx.io import gmshio\n",
    "import matplotlib.pyplot as plt\n",
    "from dolfinx import geometry\n",
    "import gmsh"
   ]
  },
  {
   "cell_type": "code",
   "execution_count": 2,
   "id": "de4ec57f-fb9d-4555-aecc-3fbce76d0055",
   "metadata": {},
   "outputs": [],
   "source": [
    "pyvista.start_xvfb()"
   ]
  },
  {
   "cell_type": "code",
   "execution_count": 3,
   "id": "3dcd10f9-7312-4ed9-aa90-4e42c4108fd6",
   "metadata": {},
   "outputs": [],
   "source": [
    "gmsh.initialize()"
   ]
  },
  {
   "cell_type": "code",
   "execution_count": 8,
   "id": "de5a35e1-0e82-4bcb-95c3-9667afc10e20",
   "metadata": {},
   "outputs": [
    {
     "name": "stdout",
     "output_type": "stream",
     "text": [
      "Info    : Clearing all models and views...\n",
      "Info    : Done clearing all models and views\n",
      "Info    : Meshing 1D...\n",
      "Info    : Meshing curve 1 (Ellipse)\n",
      "Info    : Done meshing 1D (Wall 0.000210575s, CPU 0.000179s)\n",
      "Info    : Meshing 2D...\n",
      "Info    : Meshing surface 1 (Plane, Frontal-Delaunay)\n",
      "Info    : Done meshing 2D (Wall 0.178884s, CPU 0.179446s)\n",
      "Info    : 4201 nodes 8401 elements\n"
     ]
    }
   ],
   "source": [
    "gmsh.clear()\n",
    "membrane = gmsh.model.occ.addDisk(0, 0, 0, 1, 1)\n",
    "gmsh.model.occ.synchronize()\n",
    "gdim = 2\n",
    "gmsh.model.addPhysicalGroup(2, [membrane], 1)\n",
    "gmsh.option.setNumber(\"Mesh.CharacteristicLengthMin\", 0.03)\n",
    "gmsh.option.setNumber(\"Mesh.CharacteristicLengthMax\", 0.03)\n",
    "gmsh.model.mesh.generate(2)\n",
    "gmsh_model_rank = 0\n",
    "mesh_comm = MPI.COMM_WORLD\n",
    "domain, cell_markers, facet_markers = gmshio.model_to_mesh(gmsh.model, mesh_comm, gmsh_model_rank, gdim=gdim)"
   ]
  },
  {
   "cell_type": "code",
   "execution_count": 9,
   "id": "647117a0-d77f-4f6c-8df7-059188d2ac30",
   "metadata": {},
   "outputs": [],
   "source": [
    "V = fem.functionspace(domain, (\"Lagrange\", 1))"
   ]
  },
  {
   "cell_type": "code",
   "execution_count": 16,
   "id": "141c52ae-76bd-4d76-9f5a-b09ca895e9a9",
   "metadata": {},
   "outputs": [
    {
     "data": {
      "text/plain": [
       "FunctionSpace(Mesh(blocked element (Basix element (P, triangle, 1, equispaced, unset, False, float64, []), (2,)), 0), Basix element (P, triangle, 1, gll_warped, unset, False, float64, []))"
      ]
     },
     "execution_count": 16,
     "metadata": {},
     "output_type": "execute_result"
    }
   ],
   "source": [
    "V"
   ]
  },
  {
   "cell_type": "code",
   "execution_count": 15,
   "id": "184bd756-1601-4676-af19-19ab8b05b745",
   "metadata": {},
   "outputs": [
    {
     "data": {
      "text/plain": [
       "{'_cpp_object': <dolfinx.cpp.fem.FunctionSpace_float64 at 0x72d0bd56b7d0>,\n",
       " '_mesh': <dolfinx.mesh.Mesh at 0x72d0bcc4df10>,\n",
       " '_label': '',\n",
       " '_ufl_domain': Mesh(blocked element (Basix element (P, triangle, 1, equispaced, unset, False, float64, []), (2,)), 0),\n",
       " '_ufl_element': Basix element (P, triangle, 1, gll_warped, unset, False, float64, [])}"
      ]
     },
     "execution_count": 15,
     "metadata": {},
     "output_type": "execute_result"
    }
   ],
   "source": [
    "V.__dict__"
   ]
  },
  {
   "cell_type": "code",
   "execution_count": 26,
   "id": "43785c75-cfb2-4ec5-b1b5-9632765b3687",
   "metadata": {},
   "outputs": [
    {
     "data": {
      "text/plain": [
       "<dolfinx.cpp.fem.FunctionSpace_float64 at 0x72d0bd56b7d0>"
      ]
     },
     "execution_count": 26,
     "metadata": {},
     "output_type": "execute_result"
    }
   ],
   "source": [
    "V.__dict__['_cpp_object']"
   ]
  },
  {
   "cell_type": "code",
   "execution_count": null,
   "id": "b8089835-c6a3-4061-9745-328f45955f29",
   "metadata": {},
   "outputs": [],
   "source": []
  }
 ],
 "metadata": {
  "kernelspec": {
   "display_name": "Python 3 (ipykernel)",
   "language": "python",
   "name": "python3"
  },
  "language_info": {
   "codemirror_mode": {
    "name": "ipython",
    "version": 3
   },
   "file_extension": ".py",
   "mimetype": "text/x-python",
   "name": "python",
   "nbconvert_exporter": "python",
   "pygments_lexer": "ipython3",
   "version": "3.11.8"
  }
 },
 "nbformat": 4,
 "nbformat_minor": 5
}
